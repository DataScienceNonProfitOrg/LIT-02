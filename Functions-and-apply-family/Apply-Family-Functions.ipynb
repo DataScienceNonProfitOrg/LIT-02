{
 "cells": [
  {
   "cell_type": "markdown",
   "metadata": {
    "slideshow": {
     "slide_type": "slide"
    }
   },
   "source": [
    "\n",
    "* **apply** - apply over the margins of an array (e.g. the rows or columns of a matrix)\n",
    "* **lapply** - apply a function to each element of a list in turn and get a list back.\n",
    "* **sapply** - apply a function to each element of a list and get a simplified object like vector back, rather than a list.\n",
    "* **tapply** - apply a function to subsets of a vector and the subsets are defined by some other vector, usually a factor.\n",
    "* **mapply** - apply a function to the 1st elements of each, and then the 2nd elements of each, etc\n",
    "\n"
   ]
  },
  {
   "cell_type": "code",
   "execution_count": 224,
   "metadata": {
    "run_control": {
     "frozen": false,
     "read_only": false
    },
    "slideshow": {
     "slide_type": "slide"
    }
   },
   "outputs": [
    {
     "data": {
      "text/html": [
       "<table>\n",
       "<tbody>\n",
       "\t<tr><td> 0.23522071</td><td>-1.1132173 </td><td>4.783571   </td></tr>\n",
       "\t<tr><td>-0.33073587</td><td> 1.0586426 </td><td>6.446478   </td></tr>\n",
       "\t<tr><td>-0.31162382</td><td> 3.4002588 </td><td>5.409710   </td></tr>\n",
       "\t<tr><td>-2.30234566</td><td> 0.3795300 </td><td>5.910917   </td></tr>\n",
       "\t<tr><td>-0.17087604</td><td>-0.2659960 </td><td>6.430358   </td></tr>\n",
       "\t<tr><td> 0.14027823</td><td> 3.1629936 </td><td>4.618708   </td></tr>\n",
       "\t<tr><td>-1.49742666</td><td> 1.8838450 </td><td>5.202307   </td></tr>\n",
       "\t<tr><td>-1.01018842</td><td> 2.3342560 </td><td>4.193801   </td></tr>\n",
       "\t<tr><td>-0.94847560</td><td> 1.3791419 </td><td>5.294634   </td></tr>\n",
       "\t<tr><td>-0.49396222</td><td> 0.6901551 </td><td>6.404883   </td></tr>\n",
       "\t<tr><td>-0.17367413</td><td> 0.8242740 </td><td>6.023767   </td></tr>\n",
       "\t<tr><td>-0.40659878</td><td> 0.8787845 </td><td>5.476126   </td></tr>\n",
       "\t<tr><td> 1.84563626</td><td> 0.6380955 </td><td>4.329670   </td></tr>\n",
       "\t<tr><td> 0.39405411</td><td> 2.4811246 </td><td>5.159234   </td></tr>\n",
       "\t<tr><td> 0.79752850</td><td> 2.7419716 </td><td>4.617285   </td></tr>\n",
       "\t<tr><td>-1.56666536</td><td> 2.0278246 </td><td>5.935763   </td></tr>\n",
       "\t<tr><td>-0.08585101</td><td> 2.3313797 </td><td>4.368468   </td></tr>\n",
       "\t<tr><td>-0.35913948</td><td> 2.6441141 </td><td>4.901694   </td></tr>\n",
       "\t<tr><td>-1.19360897</td><td> 4.4856616 </td><td>6.031985   </td></tr>\n",
       "\t<tr><td> 0.36418674</td><td> 3.9599817 </td><td>5.387808   </td></tr>\n",
       "\t<tr><td> 0.36166245</td><td> 2.1916634 </td><td>3.743871   </td></tr>\n",
       "\t<tr><td> 0.34696437</td><td> 3.5525443 </td><td>4.213047   </td></tr>\n",
       "\t<tr><td> 0.18973653</td><td> 2.9142423 </td><td>5.429812   </td></tr>\n",
       "\t<tr><td>-0.15957681</td><td> 2.3586254 </td><td>4.623584   </td></tr>\n",
       "\t<tr><td> 0.32654924</td><td> 2.1750956 </td><td>3.783771   </td></tr>\n",
       "\t<tr><td> 0.59825420</td><td> 1.1527322 </td><td>6.029279   </td></tr>\n",
       "\t<tr><td>-1.84153430</td><td> 2.9782317 </td><td>5.430397   </td></tr>\n",
       "\t<tr><td> 2.71805560</td><td> 3.8058683 </td><td>3.754426   </td></tr>\n",
       "\t<tr><td> 0.19124439</td><td> 2.1229148 </td><td>4.397272   </td></tr>\n",
       "\t<tr><td>-1.30129607</td><td> 1.8702280 </td><td>5.660069   </td></tr>\n",
       "</tbody>\n",
       "</table>\n"
      ],
      "text/latex": [
       "\\begin{tabular}{lll}\n",
       "\t  0.23522071 & -1.1132173  & 4.783571   \\\\\n",
       "\t -0.33073587 &  1.0586426  & 6.446478   \\\\\n",
       "\t -0.31162382 &  3.4002588  & 5.409710   \\\\\n",
       "\t -2.30234566 &  0.3795300  & 5.910917   \\\\\n",
       "\t -0.17087604 & -0.2659960  & 6.430358   \\\\\n",
       "\t  0.14027823 &  3.1629936  & 4.618708   \\\\\n",
       "\t -1.49742666 &  1.8838450  & 5.202307   \\\\\n",
       "\t -1.01018842 &  2.3342560  & 4.193801   \\\\\n",
       "\t -0.94847560 &  1.3791419  & 5.294634   \\\\\n",
       "\t -0.49396222 &  0.6901551  & 6.404883   \\\\\n",
       "\t -0.17367413 &  0.8242740  & 6.023767   \\\\\n",
       "\t -0.40659878 &  0.8787845  & 5.476126   \\\\\n",
       "\t  1.84563626 &  0.6380955  & 4.329670   \\\\\n",
       "\t  0.39405411 &  2.4811246  & 5.159234   \\\\\n",
       "\t  0.79752850 &  2.7419716  & 4.617285   \\\\\n",
       "\t -1.56666536 &  2.0278246  & 5.935763   \\\\\n",
       "\t -0.08585101 &  2.3313797  & 4.368468   \\\\\n",
       "\t -0.35913948 &  2.6441141  & 4.901694   \\\\\n",
       "\t -1.19360897 &  4.4856616  & 6.031985   \\\\\n",
       "\t  0.36418674 &  3.9599817  & 5.387808   \\\\\n",
       "\t  0.36166245 &  2.1916634  & 3.743871   \\\\\n",
       "\t  0.34696437 &  3.5525443  & 4.213047   \\\\\n",
       "\t  0.18973653 &  2.9142423  & 5.429812   \\\\\n",
       "\t -0.15957681 &  2.3586254  & 4.623584   \\\\\n",
       "\t  0.32654924 &  2.1750956  & 3.783771   \\\\\n",
       "\t  0.59825420 &  1.1527322  & 6.029279   \\\\\n",
       "\t -1.84153430 &  2.9782317  & 5.430397   \\\\\n",
       "\t  2.71805560 &  3.8058683  & 3.754426   \\\\\n",
       "\t  0.19124439 &  2.1229148  & 4.397272   \\\\\n",
       "\t -1.30129607 &  1.8702280  & 5.660069   \\\\\n",
       "\\end{tabular}\n"
      ],
      "text/markdown": [
       "\n",
       "|  0.23522071 | -1.1132173  | 4.783571    | \n",
       "| -0.33073587 |  1.0586426  | 6.446478    | \n",
       "| -0.31162382 |  3.4002588  | 5.409710    | \n",
       "| -2.30234566 |  0.3795300  | 5.910917    | \n",
       "| -0.17087604 | -0.2659960  | 6.430358    | \n",
       "|  0.14027823 |  3.1629936  | 4.618708    | \n",
       "| -1.49742666 |  1.8838450  | 5.202307    | \n",
       "| -1.01018842 |  2.3342560  | 4.193801    | \n",
       "| -0.94847560 |  1.3791419  | 5.294634    | \n",
       "| -0.49396222 |  0.6901551  | 6.404883    | \n",
       "| -0.17367413 |  0.8242740  | 6.023767    | \n",
       "| -0.40659878 |  0.8787845  | 5.476126    | \n",
       "|  1.84563626 |  0.6380955  | 4.329670    | \n",
       "|  0.39405411 |  2.4811246  | 5.159234    | \n",
       "|  0.79752850 |  2.7419716  | 4.617285    | \n",
       "| -1.56666536 |  2.0278246  | 5.935763    | \n",
       "| -0.08585101 |  2.3313797  | 4.368468    | \n",
       "| -0.35913948 |  2.6441141  | 4.901694    | \n",
       "| -1.19360897 |  4.4856616  | 6.031985    | \n",
       "|  0.36418674 |  3.9599817  | 5.387808    | \n",
       "|  0.36166245 |  2.1916634  | 3.743871    | \n",
       "|  0.34696437 |  3.5525443  | 4.213047    | \n",
       "|  0.18973653 |  2.9142423  | 5.429812    | \n",
       "| -0.15957681 |  2.3586254  | 4.623584    | \n",
       "|  0.32654924 |  2.1750956  | 3.783771    | \n",
       "|  0.59825420 |  1.1527322  | 6.029279    | \n",
       "| -1.84153430 |  2.9782317  | 5.430397    | \n",
       "|  2.71805560 |  3.8058683  | 3.754426    | \n",
       "|  0.19124439 |  2.1229148  | 4.397272    | \n",
       "| -1.30129607 |  1.8702280  | 5.660069    | \n",
       "\n",
       "\n"
      ],
      "text/plain": [
       "      [,1]        [,2]       [,3]    \n",
       " [1,]  0.23522071 -1.1132173 4.783571\n",
       " [2,] -0.33073587  1.0586426 6.446478\n",
       " [3,] -0.31162382  3.4002588 5.409710\n",
       " [4,] -2.30234566  0.3795300 5.910917\n",
       " [5,] -0.17087604 -0.2659960 6.430358\n",
       " [6,]  0.14027823  3.1629936 4.618708\n",
       " [7,] -1.49742666  1.8838450 5.202307\n",
       " [8,] -1.01018842  2.3342560 4.193801\n",
       " [9,] -0.94847560  1.3791419 5.294634\n",
       "[10,] -0.49396222  0.6901551 6.404883\n",
       "[11,] -0.17367413  0.8242740 6.023767\n",
       "[12,] -0.40659878  0.8787845 5.476126\n",
       "[13,]  1.84563626  0.6380955 4.329670\n",
       "[14,]  0.39405411  2.4811246 5.159234\n",
       "[15,]  0.79752850  2.7419716 4.617285\n",
       "[16,] -1.56666536  2.0278246 5.935763\n",
       "[17,] -0.08585101  2.3313797 4.368468\n",
       "[18,] -0.35913948  2.6441141 4.901694\n",
       "[19,] -1.19360897  4.4856616 6.031985\n",
       "[20,]  0.36418674  3.9599817 5.387808\n",
       "[21,]  0.36166245  2.1916634 3.743871\n",
       "[22,]  0.34696437  3.5525443 4.213047\n",
       "[23,]  0.18973653  2.9142423 5.429812\n",
       "[24,] -0.15957681  2.3586254 4.623584\n",
       "[25,]  0.32654924  2.1750956 3.783771\n",
       "[26,]  0.59825420  1.1527322 6.029279\n",
       "[27,] -1.84153430  2.9782317 5.430397\n",
       "[28,]  2.71805560  3.8058683 3.754426\n",
       "[29,]  0.19124439  2.1229148 4.397272\n",
       "[30,] -1.30129607  1.8702280 5.660069"
      ]
     },
     "metadata": {},
     "output_type": "display_data"
    }
   ],
   "source": [
    "set.seed(111)\n",
    "m <- matrix(data=cbind(rnorm(30, 0), rnorm(30, 2), rnorm(30, 5)), nrow=30, ncol=3)\n",
    "m"
   ]
  },
  {
   "cell_type": "markdown",
   "metadata": {
    "slideshow": {
     "slide_type": "slide"
    }
   },
   "source": [
    "### apply\n",
    "* When you want to apply a function to the rows or columns of a matrix (and higherdimensional analogues); \n",
    "* not generally advisable for data frames as it will coerce to a matrix first"
   ]
  },
  {
   "cell_type": "code",
   "execution_count": 225,
   "metadata": {
    "run_control": {
     "frozen": false,
     "read_only": false
    },
    "scrolled": false,
    "slideshow": {
     "slide_type": "subslide"
    }
   },
   "outputs": [
    {
     "data": {
      "text/html": [
       "<ol class=list-inline>\n",
       "\t<li>1.30185825038975</li>\n",
       "\t<li>2.3914616334814</li>\n",
       "\t<li>2.83278158641486</li>\n",
       "\t<li>1.32936696173676</li>\n",
       "\t<li>1.99782872161842</li>\n",
       "\t<li>2.6406599528872</li>\n",
       "\t<li>1.8629084935399</li>\n",
       "\t<li>1.83928946541398</li>\n",
       "\t<li>1.90843349079513</li>\n",
       "\t<li>2.20035865246824</li>\n",
       "\t<li>2.22478889225953</li>\n",
       "\t<li>1.982770583877</li>\n",
       "\t<li>2.27113381675114</li>\n",
       "\t<li>2.67813766988396</li>\n",
       "\t<li>2.7189282478868</li>\n",
       "\t<li>2.13230728609142</li>\n",
       "\t<li>2.20466547808473</li>\n",
       "\t<li>2.39555619109165</li>\n",
       "\t<li>3.10801252599802</li>\n",
       "\t<li>3.23732562472545</li>\n",
       "\t<li>2.09906550771431</li>\n",
       "\t<li>2.70418530404283</li>\n",
       "\t<li>2.84459678741562</li>\n",
       "\t<li>2.27421078335222</li>\n",
       "\t<li>2.09513860271916</li>\n",
       "\t<li>2.59342164918598</li>\n",
       "\t<li>2.18903145212111</li>\n",
       "\t<li>3.42611661286575</li>\n",
       "\t<li>2.23714356877431</li>\n",
       "\t<li>2.07633376527601</li>\n",
       "</ol>\n"
      ],
      "text/latex": [
       "\\begin{enumerate*}\n",
       "\\item 1.30185825038975\n",
       "\\item 2.3914616334814\n",
       "\\item 2.83278158641486\n",
       "\\item 1.32936696173676\n",
       "\\item 1.99782872161842\n",
       "\\item 2.6406599528872\n",
       "\\item 1.8629084935399\n",
       "\\item 1.83928946541398\n",
       "\\item 1.90843349079513\n",
       "\\item 2.20035865246824\n",
       "\\item 2.22478889225953\n",
       "\\item 1.982770583877\n",
       "\\item 2.27113381675114\n",
       "\\item 2.67813766988396\n",
       "\\item 2.7189282478868\n",
       "\\item 2.13230728609142\n",
       "\\item 2.20466547808473\n",
       "\\item 2.39555619109165\n",
       "\\item 3.10801252599802\n",
       "\\item 3.23732562472545\n",
       "\\item 2.09906550771431\n",
       "\\item 2.70418530404283\n",
       "\\item 2.84459678741562\n",
       "\\item 2.27421078335222\n",
       "\\item 2.09513860271916\n",
       "\\item 2.59342164918598\n",
       "\\item 2.18903145212111\n",
       "\\item 3.42611661286575\n",
       "\\item 2.23714356877431\n",
       "\\item 2.07633376527601\n",
       "\\end{enumerate*}\n"
      ],
      "text/markdown": [
       "1. 1.30185825038975\n",
       "2. 2.3914616334814\n",
       "3. 2.83278158641486\n",
       "4. 1.32936696173676\n",
       "5. 1.99782872161842\n",
       "6. 2.6406599528872\n",
       "7. 1.8629084935399\n",
       "8. 1.83928946541398\n",
       "9. 1.90843349079513\n",
       "10. 2.20035865246824\n",
       "11. 2.22478889225953\n",
       "12. 1.982770583877\n",
       "13. 2.27113381675114\n",
       "14. 2.67813766988396\n",
       "15. 2.7189282478868\n",
       "16. 2.13230728609142\n",
       "17. 2.20466547808473\n",
       "18. 2.39555619109165\n",
       "19. 3.10801252599802\n",
       "20. 3.23732562472545\n",
       "21. 2.09906550771431\n",
       "22. 2.70418530404283\n",
       "23. 2.84459678741562\n",
       "24. 2.27421078335222\n",
       "25. 2.09513860271916\n",
       "26. 2.59342164918598\n",
       "27. 2.18903145212111\n",
       "28. 3.42611661286575\n",
       "29. 2.23714356877431\n",
       "30. 2.07633376527601\n",
       "\n",
       "\n"
      ],
      "text/plain": [
       " [1] 1.301858 2.391462 2.832782 1.329367 1.997829 2.640660 1.862908 1.839289\n",
       " [9] 1.908433 2.200359 2.224789 1.982771 2.271134 2.678138 2.718928 2.132307\n",
       "[17] 2.204665 2.395556 3.108013 3.237326 2.099066 2.704185 2.844597 2.274211\n",
       "[25] 2.095139 2.593422 2.189031 3.426117 2.237144 2.076334"
      ]
     },
     "metadata": {},
     "output_type": "display_data"
    }
   ],
   "source": [
    "# traverse row wise\n",
    "apply(m, 1, mean)"
   ]
  },
  {
   "cell_type": "code",
   "execution_count": 226,
   "metadata": {
    "run_control": {
     "frozen": false,
     "read_only": false
    },
    "slideshow": {
     "slide_type": "subslide"
    }
   },
   "outputs": [
    {
     "data": {
      "text/html": [
       "<ol class=list-inline>\n",
       "\t<li>17</li>\n",
       "\t<li>2</li>\n",
       "\t<li>0</li>\n",
       "</ol>\n"
      ],
      "text/latex": [
       "\\begin{enumerate*}\n",
       "\\item 17\n",
       "\\item 2\n",
       "\\item 0\n",
       "\\end{enumerate*}\n"
      ],
      "text/markdown": [
       "1. 17\n",
       "2. 2\n",
       "3. 0\n",
       "\n",
       "\n"
      ],
      "text/plain": [
       "[1] 17  2  0"
      ]
     },
     "metadata": {},
     "output_type": "display_data"
    }
   ],
   "source": [
    "# traverse column wise\n",
    "# using Our own functions\n",
    "apply(m, 2, function(x) length(x[x<0]))"
   ]
  },
  {
   "cell_type": "markdown",
   "metadata": {
    "slideshow": {
     "slide_type": "slide"
    }
   },
   "source": [
    "### lapply\n",
    "* When you want to apply a function to each element of a list/vector in turn and get a list back"
   ]
  },
  {
   "cell_type": "markdown",
   "metadata": {
    "slideshow": {
     "slide_type": "subslide"
    }
   },
   "source": [
    "![](img/apply_fun.jpg)\n"
   ]
  },
  {
   "cell_type": "code",
   "execution_count": 227,
   "metadata": {
    "run_control": {
     "frozen": false,
     "read_only": false
    },
    "slideshow": {
     "slide_type": "subslide"
    }
   },
   "outputs": [
    {
     "data": {
      "text/html": [
       "<ol>\n",
       "\t<li>1</li>\n",
       "\t<li>4</li>\n",
       "\t<li>9</li>\n",
       "</ol>\n"
      ],
      "text/latex": [
       "\\begin{enumerate}\n",
       "\\item 1\n",
       "\\item 4\n",
       "\\item 9\n",
       "\\end{enumerate}\n"
      ],
      "text/markdown": [
       "1. 1\n",
       "2. 4\n",
       "3. 9\n",
       "\n",
       "\n"
      ],
      "text/plain": [
       "[[1]]\n",
       "[1] 1\n",
       "\n",
       "[[2]]\n",
       "[1] 4\n",
       "\n",
       "[[3]]\n",
       "[1] 9\n"
      ]
     },
     "metadata": {},
     "output_type": "display_data"
    }
   ],
   "source": [
    "lapply(1:3, function(x) x^2)"
   ]
  },
  {
   "cell_type": "code",
   "execution_count": 228,
   "metadata": {
    "run_control": {
     "frozen": false,
     "marked": false,
     "read_only": false
    },
    "slideshow": {
     "slide_type": "subslide"
    }
   },
   "outputs": [
    {
     "data": {
      "text/html": [
       "<ol class=list-inline>\n",
       "\t<li>1</li>\n",
       "\t<li>4</li>\n",
       "\t<li>9</li>\n",
       "</ol>\n"
      ],
      "text/latex": [
       "\\begin{enumerate*}\n",
       "\\item 1\n",
       "\\item 4\n",
       "\\item 9\n",
       "\\end{enumerate*}\n"
      ],
      "text/markdown": [
       "1. 1\n",
       "2. 4\n",
       "3. 9\n",
       "\n",
       "\n"
      ],
      "text/plain": [
       "[1] 1 4 9"
      ]
     },
     "metadata": {},
     "output_type": "display_data"
    }
   ],
   "source": [
    "# you can use unlist with lapply to get a vector\n",
    "unlist(lapply(1:3, function(x) x^2))"
   ]
  },
  {
   "cell_type": "code",
   "execution_count": 229,
   "metadata": {
    "run_control": {
     "frozen": false,
     "read_only": false
    },
    "slideshow": {
     "slide_type": "subslide"
    }
   },
   "outputs": [
    {
     "data": {
      "text/html": [
       "<ol class=list-inline>\n",
       "\t<li>1</li>\n",
       "\t<li>4</li>\n",
       "\t<li>9</li>\n",
       "</ol>\n"
      ],
      "text/latex": [
       "\\begin{enumerate*}\n",
       "\\item 1\n",
       "\\item 4\n",
       "\\item 9\n",
       "\\end{enumerate*}\n"
      ],
      "text/markdown": [
       "1. 1\n",
       "2. 4\n",
       "3. 9\n",
       "\n",
       "\n"
      ],
      "text/plain": [
       "[1] 1 4 9"
      ]
     },
     "metadata": {},
     "output_type": "display_data"
    }
   ],
   "source": [
    "#simplify2array and sapply\n",
    "simplify2array(lapply(1:3, function(x) x^2))"
   ]
  },
  {
   "cell_type": "markdown",
   "metadata": {
    "slideshow": {
     "slide_type": "slide"
    }
   },
   "source": [
    "### saplly\n",
    "* When you want to apply a function to each element of a list in turn, but you want avector back, rather than a list\n",
    " "
   ]
  },
  {
   "cell_type": "code",
   "execution_count": 230,
   "metadata": {
    "run_control": {
     "frozen": false,
     "read_only": false
    },
    "slideshow": {
     "slide_type": "subslide"
    }
   },
   "outputs": [
    {
     "data": {
      "text/html": [
       "<ol class=list-inline>\n",
       "\t<li>1</li>\n",
       "\t<li>4</li>\n",
       "\t<li>9</li>\n",
       "</ol>\n"
      ],
      "text/latex": [
       "\\begin{enumerate*}\n",
       "\\item 1\n",
       "\\item 4\n",
       "\\item 9\n",
       "\\end{enumerate*}\n"
      ],
      "text/markdown": [
       "1. 1\n",
       "2. 4\n",
       "3. 9\n",
       "\n",
       "\n"
      ],
      "text/plain": [
       "[1] 1 4 9"
      ]
     },
     "metadata": {},
     "output_type": "display_data"
    }
   ],
   "source": [
    "sapply(1:3, function(x) x^2)"
   ]
  },
  {
   "cell_type": "code",
   "execution_count": 231,
   "metadata": {
    "run_control": {
     "frozen": false,
     "read_only": false
    },
    "slideshow": {
     "slide_type": "subslide"
    }
   },
   "outputs": [
    {
     "name": "stdout",
     "output_type": "stream",
     "text": [
      "[[1]]\n",
      "[1] 1\n",
      "\n",
      "[[2]]\n",
      "[1] 4\n",
      "\n",
      "[[3]]\n",
      "[1] 9\n",
      "\n"
     ]
    }
   ],
   "source": [
    "print(sapply(1:3, function(x) x^2,simplify = FALSE))"
   ]
  },
  {
   "cell_type": "markdown",
   "metadata": {
    "slideshow": {
     "slide_type": "slide"
    }
   },
   "source": [
    "### taplly"
   ]
  },
  {
   "cell_type": "code",
   "execution_count": 232,
   "metadata": {
    "run_control": {
     "frozen": false,
     "read_only": false
    },
    "slideshow": {
     "slide_type": "subslide"
    }
   },
   "outputs": [
    {
     "name": "stdout",
     "output_type": "stream",
     "text": [
      "       4        6        8 \n",
      "2.285727 3.117143 3.999214 \n"
     ]
    }
   ],
   "source": [
    "print(tapply(mtcars$wt,mtcars$cyl,mean))"
   ]
  },
  {
   "cell_type": "code",
   "execution_count": 233,
   "metadata": {
    "run_control": {
     "frozen": false,
     "read_only": false
    },
    "scrolled": true,
    "slideshow": {
     "slide_type": "subslide"
    }
   },
   "outputs": [
    {
     "name": "stdout",
     "output_type": "stream",
     "text": [
      "    setosa versicolor  virginica \n",
      "     5.006      5.936      6.588 \n"
     ]
    }
   ],
   "source": [
    "print(tapply(iris$Sepal.Length,iris$Species,mean))"
   ]
  },
  {
   "cell_type": "code",
   "execution_count": 234,
   "metadata": {
    "run_control": {
     "frozen": false,
     "read_only": false
    },
    "scrolled": true,
    "slideshow": {
     "slide_type": "subslide"
    }
   },
   "outputs": [
    {
     "name": "stdout",
     "output_type": "stream",
     "text": [
      "    setosa versicolor  virginica \n",
      "     5.006      5.936      6.588 \n"
     ]
    }
   ],
   "source": [
    "print(tapply(iris$Sepal.Length,iris$Species,mean))"
   ]
  },
  {
   "cell_type": "code",
   "execution_count": null,
   "metadata": {
    "collapsed": true,
    "run_control": {
     "frozen": false,
     "read_only": false
    },
    "slideshow": {
     "slide_type": "subslide"
    }
   },
   "outputs": [],
   "source": [
    "# Without simplification, tapply always returns a list.\n",
    "tapply(iris$Sepal.Length,iris$Species,mean, simplify = FALSE)"
   ]
  },
  {
   "cell_type": "code",
   "execution_count": 236,
   "metadata": {
    "run_control": {
     "frozen": false,
     "read_only": false
    },
    "scrolled": false,
    "slideshow": {
     "slide_type": "subslide"
    }
   },
   "outputs": [
    {
     "data": {
      "text/html": [
       "<dl>\n",
       "\t<dt>$setosa</dt>\n",
       "\t\t<dd>5.006</dd>\n",
       "\t<dt>$versicolor</dt>\n",
       "\t\t<dd>5.936</dd>\n",
       "\t<dt>$virginica</dt>\n",
       "\t\t<dd>6.588</dd>\n",
       "</dl>\n"
      ],
      "text/latex": [
       "\\begin{description}\n",
       "\\item[\\$setosa] 5.006\n",
       "\\item[\\$versicolor] 5.936\n",
       "\\item[\\$virginica] 6.588\n",
       "\\end{description}\n"
      ],
      "text/markdown": [
       "$setosa\n",
       ":   5.006\n",
       "$versicolor\n",
       ":   5.936\n",
       "$virginica\n",
       ":   6.588\n",
       "\n",
       "\n"
      ],
      "text/plain": [
       "$setosa\n",
       "[1] 5.006\n",
       "\n",
       "$versicolor\n",
       "[1] 5.936\n",
       "\n",
       "$virginica\n",
       "[1] 6.588\n"
      ]
     },
     "metadata": {},
     "output_type": "display_data"
    }
   ],
   "source": [
    "# split function splits a vector into groups using a factor.Using split \n",
    "# and then applying a function with lapply produces the same result as tapply\n",
    "lapply(split(iris$Sepal.Length,iris$Species), mean) # Instead of tapply"
   ]
  },
  {
   "cell_type": "markdown",
   "metadata": {
    "slideshow": {
     "slide_type": "slide"
    }
   },
   "source": [
    "### aggregate\n",
    "* The aggregate function splits the data into subsets and computes summary statistics for each of them. \n",
    "* The output of aggregate is a data.frame, including a column for species."
   ]
  },
  {
   "cell_type": "code",
   "execution_count": 257,
   "metadata": {
    "collapsed": true,
    "run_control": {
     "frozen": false,
     "read_only": false
    },
    "scrolled": true,
    "slideshow": {
     "slide_type": "subslide"
    }
   },
   "outputs": [],
   "source": [
    "# ?tapply\n",
    "# ?aggregate"
   ]
  },
  {
   "cell_type": "code",
   "execution_count": 268,
   "metadata": {
    "run_control": {
     "frozen": false,
     "read_only": false
    },
    "slideshow": {
     "slide_type": "subslide"
    }
   },
   "outputs": [
    {
     "data": {
      "text/html": [
       "<table>\n",
       "<thead><tr><th scope=col>Species</th><th scope=col>Sepal.Length</th><th scope=col>Sepal.Width</th><th scope=col>Petal.Length</th><th scope=col>Petal.Width</th></tr></thead>\n",
       "<tbody>\n",
       "\t<tr><td>setosa    </td><td>5.006     </td><td>3.428     </td><td>1.462     </td><td>0.246     </td></tr>\n",
       "\t<tr><td>versicolor</td><td>5.936     </td><td>2.770     </td><td>4.260     </td><td>1.326     </td></tr>\n",
       "\t<tr><td>virginica </td><td>6.588     </td><td>2.974     </td><td>5.552     </td><td>2.026     </td></tr>\n",
       "</tbody>\n",
       "</table>\n"
      ],
      "text/latex": [
       "\\begin{tabular}{r|lllll}\n",
       " Species & Sepal.Length & Sepal.Width & Petal.Length & Petal.Width\\\\\n",
       "\\hline\n",
       "\t setosa     & 5.006      & 3.428      & 1.462      & 0.246     \\\\\n",
       "\t versicolor & 5.936      & 2.770      & 4.260      & 1.326     \\\\\n",
       "\t virginica  & 6.588      & 2.974      & 5.552      & 2.026     \\\\\n",
       "\\end{tabular}\n"
      ],
      "text/markdown": [
       "\n",
       "Species | Sepal.Length | Sepal.Width | Petal.Length | Petal.Width | \n",
       "|---|---|---|\n",
       "| setosa     | 5.006      | 3.428      | 1.462      | 0.246      | \n",
       "| versicolor | 5.936      | 2.770      | 4.260      | 1.326      | \n",
       "| virginica  | 6.588      | 2.974      | 5.552      | 2.026      | \n",
       "\n",
       "\n"
      ],
      "text/plain": [
       "  Species    Sepal.Length Sepal.Width Petal.Length Petal.Width\n",
       "1 setosa     5.006        3.428       1.462        0.246      \n",
       "2 versicolor 5.936        2.770       4.260        1.326      \n",
       "3 virginica  6.588        2.974       5.552        2.026      "
      ]
     },
     "metadata": {},
     "output_type": "display_data"
    }
   ],
   "source": [
    "iris.x <- subset(iris, select= -Species) # subsetting without Species\n",
    "iris.s <- subset(iris, select= Species) # subsetting only Species\n",
    "aggregate(iris.x, iris.s, mean)\n"
   ]
  },
  {
   "cell_type": "code",
   "execution_count": 265,
   "metadata": {
    "run_control": {
     "frozen": false,
     "read_only": false
    },
    "slideshow": {
     "slide_type": "subslide"
    }
   },
   "outputs": [
    {
     "data": {
      "text/html": [
       "<table>\n",
       "<thead><tr><th scope=col>Group.1</th><th scope=col>mpg</th><th scope=col>cyl</th><th scope=col>disp</th><th scope=col>hp</th><th scope=col>drat</th><th scope=col>wt</th><th scope=col>qsec</th><th scope=col>vs</th><th scope=col>am</th><th scope=col>gear</th><th scope=col>carb</th></tr></thead>\n",
       "<tbody>\n",
       "\t<tr><td>1     </td><td>22.80 </td><td>4     </td><td>108.00</td><td> 93   </td><td>3.850 </td><td>2.320 </td><td>19.470</td><td>1.0   </td><td>1     </td><td>4.0   </td><td>1     </td></tr>\n",
       "\t<tr><td>2     </td><td>22.10 </td><td>4     </td><td>143.75</td><td>111   </td><td>3.730 </td><td>3.170 </td><td>17.175</td><td>0.5   </td><td>0     </td><td>4.0   </td><td>2     </td></tr>\n",
       "\t<tr><td>3     </td><td>16.40 </td><td>8     </td><td>275.80</td><td>180   </td><td>3.070 </td><td>3.780 </td><td>17.600</td><td>0.0   </td><td>0     </td><td>3.0   </td><td>3     </td></tr>\n",
       "\t<tr><td>4     </td><td>15.25 </td><td>8     </td><td>350.50</td><td>210   </td><td>3.815 </td><td>3.505 </td><td>17.220</td><td>0.0   </td><td>0     </td><td>3.5   </td><td>4     </td></tr>\n",
       "\t<tr><td>6     </td><td>19.70 </td><td>6     </td><td>145.00</td><td>175   </td><td>3.620 </td><td>2.770 </td><td>15.500</td><td>0.0   </td><td>1     </td><td>5.0   </td><td>6     </td></tr>\n",
       "\t<tr><td>8     </td><td>15.00 </td><td>8     </td><td>301.00</td><td>335   </td><td>3.540 </td><td>3.570 </td><td>14.600</td><td>0.0   </td><td>1     </td><td>5.0   </td><td>8     </td></tr>\n",
       "</tbody>\n",
       "</table>\n"
      ],
      "text/latex": [
       "\\begin{tabular}{r|llllllllllll}\n",
       " Group.1 & mpg & cyl & disp & hp & drat & wt & qsec & vs & am & gear & carb\\\\\n",
       "\\hline\n",
       "\t 1      & 22.80  & 4      & 108.00 &  93    & 3.850  & 2.320  & 19.470 & 1.0    & 1      & 4.0    & 1     \\\\\n",
       "\t 2      & 22.10  & 4      & 143.75 & 111    & 3.730  & 3.170  & 17.175 & 0.5    & 0      & 4.0    & 2     \\\\\n",
       "\t 3      & 16.40  & 8      & 275.80 & 180    & 3.070  & 3.780  & 17.600 & 0.0    & 0      & 3.0    & 3     \\\\\n",
       "\t 4      & 15.25  & 8      & 350.50 & 210    & 3.815  & 3.505  & 17.220 & 0.0    & 0      & 3.5    & 4     \\\\\n",
       "\t 6      & 19.70  & 6      & 145.00 & 175    & 3.620  & 2.770  & 15.500 & 0.0    & 1      & 5.0    & 6     \\\\\n",
       "\t 8      & 15.00  & 8      & 301.00 & 335    & 3.540  & 3.570  & 14.600 & 0.0    & 1      & 5.0    & 8     \\\\\n",
       "\\end{tabular}\n"
      ],
      "text/markdown": [
       "\n",
       "Group.1 | mpg | cyl | disp | hp | drat | wt | qsec | vs | am | gear | carb | \n",
       "|---|---|---|---|---|---|\n",
       "| 1      | 22.80  | 4      | 108.00 |  93    | 3.850  | 2.320  | 19.470 | 1.0    | 1      | 4.0    | 1      | \n",
       "| 2      | 22.10  | 4      | 143.75 | 111    | 3.730  | 3.170  | 17.175 | 0.5    | 0      | 4.0    | 2      | \n",
       "| 3      | 16.40  | 8      | 275.80 | 180    | 3.070  | 3.780  | 17.600 | 0.0    | 0      | 3.0    | 3      | \n",
       "| 4      | 15.25  | 8      | 350.50 | 210    | 3.815  | 3.505  | 17.220 | 0.0    | 0      | 3.5    | 4      | \n",
       "| 6      | 19.70  | 6      | 145.00 | 175    | 3.620  | 2.770  | 15.500 | 0.0    | 1      | 5.0    | 6      | \n",
       "| 8      | 15.00  | 8      | 301.00 | 335    | 3.540  | 3.570  | 14.600 | 0.0    | 1      | 5.0    | 8      | \n",
       "\n",
       "\n"
      ],
      "text/plain": [
       "  Group.1 mpg   cyl disp   hp  drat  wt    qsec   vs  am gear carb\n",
       "1 1       22.80 4   108.00  93 3.850 2.320 19.470 1.0 1  4.0  1   \n",
       "2 2       22.10 4   143.75 111 3.730 3.170 17.175 0.5 0  4.0  2   \n",
       "3 3       16.40 8   275.80 180 3.070 3.780 17.600 0.0 0  3.0  3   \n",
       "4 4       15.25 8   350.50 210 3.815 3.505 17.220 0.0 0  3.5  4   \n",
       "5 6       19.70 6   145.00 175 3.620 2.770 15.500 0.0 1  5.0  6   \n",
       "6 8       15.00 8   301.00 335 3.540 3.570 14.600 0.0 1  5.0  8   "
      ]
     },
     "metadata": {},
     "output_type": "display_data"
    }
   ],
   "source": [
    "aggregate(x = mtcars, by = list(mtcars$carb), FUN = median)"
   ]
  },
  {
   "cell_type": "code",
   "execution_count": 266,
   "metadata": {
    "run_control": {
     "frozen": false,
     "read_only": false
    },
    "slideshow": {
     "slide_type": "subslide"
    }
   },
   "outputs": [
    {
     "data": {
      "text/html": [
       "<table>\n",
       "<thead><tr><th scope=col>Group.1</th><th scope=col>Group.2</th><th scope=col>v1</th><th scope=col>v2</th></tr></thead>\n",
       "<tbody>\n",
       "\t<tr><td>1   </td><td>95  </td><td> 5  </td><td>55  </td></tr>\n",
       "\t<tr><td>2   </td><td>95  </td><td> 7  </td><td>77  </td></tr>\n",
       "\t<tr><td>1   </td><td>99  </td><td> 5  </td><td>55  </td></tr>\n",
       "\t<tr><td>2   </td><td>99  </td><td>NA  </td><td>NA  </td></tr>\n",
       "\t<tr><td>big </td><td>damp</td><td> 3  </td><td>33  </td></tr>\n",
       "\t<tr><td>blue</td><td>dry </td><td> 3  </td><td>33  </td></tr>\n",
       "\t<tr><td>red </td><td>red </td><td> 4  </td><td>44  </td></tr>\n",
       "\t<tr><td>red </td><td>wet </td><td> 1  </td><td>11  </td></tr>\n",
       "</tbody>\n",
       "</table>\n"
      ],
      "text/latex": [
       "\\begin{tabular}{r|llll}\n",
       " Group.1 & Group.2 & v1 & v2\\\\\n",
       "\\hline\n",
       "\t 1    & 95   &  5   & 55  \\\\\n",
       "\t 2    & 95   &  7   & 77  \\\\\n",
       "\t 1    & 99   &  5   & 55  \\\\\n",
       "\t 2    & 99   & NA   & NA  \\\\\n",
       "\t big  & damp &  3   & 33  \\\\\n",
       "\t blue & dry  &  3   & 33  \\\\\n",
       "\t red  & red  &  4   & 44  \\\\\n",
       "\t red  & wet  &  1   & 11  \\\\\n",
       "\\end{tabular}\n"
      ],
      "text/markdown": [
       "\n",
       "Group.1 | Group.2 | v1 | v2 | \n",
       "|---|---|---|---|---|---|---|---|\n",
       "| 1    | 95   |  5   | 55   | \n",
       "| 2    | 95   |  7   | 77   | \n",
       "| 1    | 99   |  5   | 55   | \n",
       "| 2    | 99   | NA   | NA   | \n",
       "| big  | damp |  3   | 33   | \n",
       "| blue | dry  |  3   | 33   | \n",
       "| red  | red  |  4   | 44   | \n",
       "| red  | wet  |  1   | 11   | \n",
       "\n",
       "\n"
      ],
      "text/plain": [
       "  Group.1 Group.2 v1 v2\n",
       "1 1       95       5 55\n",
       "2 2       95       7 77\n",
       "3 1       99       5 55\n",
       "4 2       99      NA NA\n",
       "5 big     damp     3 33\n",
       "6 blue    dry      3 33\n",
       "7 red     red      4 44\n",
       "8 red     wet      1 11"
      ]
     },
     "metadata": {},
     "output_type": "display_data"
    }
   ],
   "source": [
    "## example with character variables and NAs\n",
    "testDF <- data.frame(v1 = c(1,3,5,7,8,3,5,NA,4,5,7,9),\n",
    "                     v2 = c(11,33,55,77,88,33,55,NA,44,55,77,99) )\n",
    "by1 <- c(\"red\", \"blue\", 1, 2, NA, \"big\", 1, 2, \"red\", 1, NA, 12)\n",
    "by2 <- c(\"wet\", \"dry\", 99, 95, NA, \"damp\", 95, 99, \"red\", 99, NA, NA)\n",
    "aggregate(x = testDF, by = list(by1, by2), FUN = \"mean\")\n"
   ]
  },
  {
   "cell_type": "code",
   "execution_count": 267,
   "metadata": {
    "run_control": {
     "frozen": false,
     "read_only": false
    },
    "slideshow": {
     "slide_type": "subslide"
    }
   },
   "outputs": [
    {
     "data": {
      "text/html": [
       "<table>\n",
       "<thead><tr><th scope=col>feed</th><th scope=col>weight</th></tr></thead>\n",
       "<tbody>\n",
       "\t<tr><td>casein   </td><td>323.5833 </td></tr>\n",
       "\t<tr><td>horsebean</td><td>160.2000 </td></tr>\n",
       "\t<tr><td>linseed  </td><td>218.7500 </td></tr>\n",
       "\t<tr><td>meatmeal </td><td>276.9091 </td></tr>\n",
       "\t<tr><td>soybean  </td><td>246.4286 </td></tr>\n",
       "\t<tr><td>sunflower</td><td>328.9167 </td></tr>\n",
       "</tbody>\n",
       "</table>\n"
      ],
      "text/latex": [
       "\\begin{tabular}{r|ll}\n",
       " feed & weight\\\\\n",
       "\\hline\n",
       "\t casein    & 323.5833 \\\\\n",
       "\t horsebean & 160.2000 \\\\\n",
       "\t linseed   & 218.7500 \\\\\n",
       "\t meatmeal  & 276.9091 \\\\\n",
       "\t soybean   & 246.4286 \\\\\n",
       "\t sunflower & 328.9167 \\\\\n",
       "\\end{tabular}\n"
      ],
      "text/markdown": [
       "\n",
       "feed | weight | \n",
       "|---|---|---|---|---|---|\n",
       "| casein    | 323.5833  | \n",
       "| horsebean | 160.2000  | \n",
       "| linseed   | 218.7500  | \n",
       "| meatmeal  | 276.9091  | \n",
       "| soybean   | 246.4286  | \n",
       "| sunflower | 328.9167  | \n",
       "\n",
       "\n"
      ],
      "text/plain": [
       "  feed      weight  \n",
       "1 casein    323.5833\n",
       "2 horsebean 160.2000\n",
       "3 linseed   218.7500\n",
       "4 meatmeal  276.9091\n",
       "5 soybean   246.4286\n",
       "6 sunflower 328.9167"
      ]
     },
     "metadata": {},
     "output_type": "display_data"
    },
    {
     "data": {
      "text/html": [
       "<table>\n",
       "<thead><tr><th scope=col>wool</th><th scope=col>tension</th><th scope=col>breaks</th></tr></thead>\n",
       "<tbody>\n",
       "\t<tr><td>A       </td><td>L       </td><td>44.55556</td></tr>\n",
       "\t<tr><td>B       </td><td>L       </td><td>28.22222</td></tr>\n",
       "\t<tr><td>A       </td><td>M       </td><td>24.00000</td></tr>\n",
       "\t<tr><td>B       </td><td>M       </td><td>28.77778</td></tr>\n",
       "\t<tr><td>A       </td><td>H       </td><td>24.55556</td></tr>\n",
       "\t<tr><td>B       </td><td>H       </td><td>18.77778</td></tr>\n",
       "</tbody>\n",
       "</table>\n"
      ],
      "text/latex": [
       "\\begin{tabular}{r|lll}\n",
       " wool & tension & breaks\\\\\n",
       "\\hline\n",
       "\t A        & L        & 44.55556\\\\\n",
       "\t B        & L        & 28.22222\\\\\n",
       "\t A        & M        & 24.00000\\\\\n",
       "\t B        & M        & 28.77778\\\\\n",
       "\t A        & H        & 24.55556\\\\\n",
       "\t B        & H        & 18.77778\\\\\n",
       "\\end{tabular}\n"
      ],
      "text/markdown": [
       "\n",
       "wool | tension | breaks | \n",
       "|---|---|---|---|---|---|\n",
       "| A        | L        | 44.55556 | \n",
       "| B        | L        | 28.22222 | \n",
       "| A        | M        | 24.00000 | \n",
       "| B        | M        | 28.77778 | \n",
       "| A        | H        | 24.55556 | \n",
       "| B        | H        | 18.77778 | \n",
       "\n",
       "\n"
      ],
      "text/plain": [
       "  wool tension breaks  \n",
       "1 A    L       44.55556\n",
       "2 B    L       28.22222\n",
       "3 A    M       24.00000\n",
       "4 B    M       28.77778\n",
       "5 A    H       24.55556\n",
       "6 B    H       18.77778"
      ]
     },
     "metadata": {},
     "output_type": "display_data"
    },
    {
     "data": {
      "text/html": [
       "<table>\n",
       "<thead><tr><th scope=col>Month</th><th scope=col>Ozone</th><th scope=col>Temp</th></tr></thead>\n",
       "<tbody>\n",
       "\t<tr><td>5       </td><td>23.61538</td><td>66.73077</td></tr>\n",
       "\t<tr><td>6       </td><td>29.44444</td><td>78.22222</td></tr>\n",
       "\t<tr><td>7       </td><td>59.11538</td><td>83.88462</td></tr>\n",
       "\t<tr><td>8       </td><td>59.96154</td><td>83.96154</td></tr>\n",
       "\t<tr><td>9       </td><td>31.44828</td><td>76.89655</td></tr>\n",
       "</tbody>\n",
       "</table>\n"
      ],
      "text/latex": [
       "\\begin{tabular}{r|lll}\n",
       " Month & Ozone & Temp\\\\\n",
       "\\hline\n",
       "\t 5        & 23.61538 & 66.73077\\\\\n",
       "\t 6        & 29.44444 & 78.22222\\\\\n",
       "\t 7        & 59.11538 & 83.88462\\\\\n",
       "\t 8        & 59.96154 & 83.96154\\\\\n",
       "\t 9        & 31.44828 & 76.89655\\\\\n",
       "\\end{tabular}\n"
      ],
      "text/markdown": [
       "\n",
       "Month | Ozone | Temp | \n",
       "|---|---|---|---|---|\n",
       "| 5        | 23.61538 | 66.73077 | \n",
       "| 6        | 29.44444 | 78.22222 | \n",
       "| 7        | 59.11538 | 83.88462 | \n",
       "| 8        | 59.96154 | 83.96154 | \n",
       "| 9        | 31.44828 | 76.89655 | \n",
       "\n",
       "\n"
      ],
      "text/plain": [
       "  Month Ozone    Temp    \n",
       "1 5     23.61538 66.73077\n",
       "2 6     29.44444 78.22222\n",
       "3 7     59.11538 83.88462\n",
       "4 8     59.96154 83.96154\n",
       "5 9     31.44828 76.89655"
      ]
     },
     "metadata": {},
     "output_type": "display_data"
    },
    {
     "data": {
      "text/html": [
       "<table>\n",
       "<thead><tr><th scope=col>alcgp</th><th scope=col>tobgp</th><th scope=col>ncases</th><th scope=col>ncontrols</th></tr></thead>\n",
       "<tbody>\n",
       "\t<tr><td>0-39g/day</td><td>0-9g/day </td><td> 9       </td><td>261      </td></tr>\n",
       "\t<tr><td>40-79    </td><td>0-9g/day </td><td>34       </td><td>179      </td></tr>\n",
       "\t<tr><td>80-119   </td><td>0-9g/day </td><td>19       </td><td> 61      </td></tr>\n",
       "\t<tr><td>120+     </td><td>0-9g/day </td><td>16       </td><td> 24      </td></tr>\n",
       "\t<tr><td>0-39g/day</td><td>10-19    </td><td>10       </td><td> 84      </td></tr>\n",
       "\t<tr><td>40-79    </td><td>10-19    </td><td>17       </td><td> 85      </td></tr>\n",
       "\t<tr><td>80-119   </td><td>10-19    </td><td>19       </td><td> 49      </td></tr>\n",
       "\t<tr><td>120+     </td><td>10-19    </td><td>12       </td><td> 18      </td></tr>\n",
       "\t<tr><td>0-39g/day</td><td>20-29    </td><td> 5       </td><td> 42      </td></tr>\n",
       "\t<tr><td>40-79    </td><td>20-29    </td><td>15       </td><td> 62      </td></tr>\n",
       "\t<tr><td>80-119   </td><td>20-29    </td><td> 6       </td><td> 16      </td></tr>\n",
       "\t<tr><td>120+     </td><td>20-29    </td><td> 7       </td><td> 12      </td></tr>\n",
       "\t<tr><td>0-39g/day</td><td>30+      </td><td> 5       </td><td> 28      </td></tr>\n",
       "\t<tr><td>40-79    </td><td>30+      </td><td> 9       </td><td> 29      </td></tr>\n",
       "\t<tr><td>80-119   </td><td>30+      </td><td> 7       </td><td> 12      </td></tr>\n",
       "\t<tr><td>120+     </td><td>30+      </td><td>10       </td><td> 13      </td></tr>\n",
       "</tbody>\n",
       "</table>\n"
      ],
      "text/latex": [
       "\\begin{tabular}{r|llll}\n",
       " alcgp & tobgp & ncases & ncontrols\\\\\n",
       "\\hline\n",
       "\t 0-39g/day & 0-9g/day  &  9        & 261      \\\\\n",
       "\t 40-79     & 0-9g/day  & 34        & 179      \\\\\n",
       "\t 80-119    & 0-9g/day  & 19        &  61      \\\\\n",
       "\t 120+      & 0-9g/day  & 16        &  24      \\\\\n",
       "\t 0-39g/day & 10-19     & 10        &  84      \\\\\n",
       "\t 40-79     & 10-19     & 17        &  85      \\\\\n",
       "\t 80-119    & 10-19     & 19        &  49      \\\\\n",
       "\t 120+      & 10-19     & 12        &  18      \\\\\n",
       "\t 0-39g/day & 20-29     &  5        &  42      \\\\\n",
       "\t 40-79     & 20-29     & 15        &  62      \\\\\n",
       "\t 80-119    & 20-29     &  6        &  16      \\\\\n",
       "\t 120+      & 20-29     &  7        &  12      \\\\\n",
       "\t 0-39g/day & 30+       &  5        &  28      \\\\\n",
       "\t 40-79     & 30+       &  9        &  29      \\\\\n",
       "\t 80-119    & 30+       &  7        &  12      \\\\\n",
       "\t 120+      & 30+       & 10        &  13      \\\\\n",
       "\\end{tabular}\n"
      ],
      "text/markdown": [
       "\n",
       "alcgp | tobgp | ncases | ncontrols | \n",
       "|---|---|---|---|---|---|---|---|---|---|---|---|---|---|---|---|\n",
       "| 0-39g/day | 0-9g/day  |  9        | 261       | \n",
       "| 40-79     | 0-9g/day  | 34        | 179       | \n",
       "| 80-119    | 0-9g/day  | 19        |  61       | \n",
       "| 120+      | 0-9g/day  | 16        |  24       | \n",
       "| 0-39g/day | 10-19     | 10        |  84       | \n",
       "| 40-79     | 10-19     | 17        |  85       | \n",
       "| 80-119    | 10-19     | 19        |  49       | \n",
       "| 120+      | 10-19     | 12        |  18       | \n",
       "| 0-39g/day | 20-29     |  5        |  42       | \n",
       "| 40-79     | 20-29     | 15        |  62       | \n",
       "| 80-119    | 20-29     |  6        |  16       | \n",
       "| 120+      | 20-29     |  7        |  12       | \n",
       "| 0-39g/day | 30+       |  5        |  28       | \n",
       "| 40-79     | 30+       |  9        |  29       | \n",
       "| 80-119    | 30+       |  7        |  12       | \n",
       "| 120+      | 30+       | 10        |  13       | \n",
       "\n",
       "\n"
      ],
      "text/plain": [
       "   alcgp     tobgp    ncases ncontrols\n",
       "1  0-39g/day 0-9g/day  9     261      \n",
       "2  40-79     0-9g/day 34     179      \n",
       "3  80-119    0-9g/day 19      61      \n",
       "4  120+      0-9g/day 16      24      \n",
       "5  0-39g/day 10-19    10      84      \n",
       "6  40-79     10-19    17      85      \n",
       "7  80-119    10-19    19      49      \n",
       "8  120+      10-19    12      18      \n",
       "9  0-39g/day 20-29     5      42      \n",
       "10 40-79     20-29    15      62      \n",
       "11 80-119    20-29     6      16      \n",
       "12 120+      20-29     7      12      \n",
       "13 0-39g/day 30+       5      28      \n",
       "14 40-79     30+       9      29      \n",
       "15 80-119    30+       7      12      \n",
       "16 120+      30+      10      13      "
      ]
     },
     "metadata": {},
     "output_type": "display_data"
    },
    {
     "data": {
      "text/html": [
       "<table>\n",
       "<thead><tr><th scope=col>Species</th><th scope=col>Sepal.Length</th><th scope=col>Sepal.Width</th><th scope=col>Petal.Length</th><th scope=col>Petal.Width</th></tr></thead>\n",
       "<tbody>\n",
       "\t<tr><td>setosa    </td><td>5.006     </td><td>3.428     </td><td>1.462     </td><td>0.246     </td></tr>\n",
       "\t<tr><td>versicolor</td><td>5.936     </td><td>2.770     </td><td>4.260     </td><td>1.326     </td></tr>\n",
       "\t<tr><td>virginica </td><td>6.588     </td><td>2.974     </td><td>5.552     </td><td>2.026     </td></tr>\n",
       "</tbody>\n",
       "</table>\n"
      ],
      "text/latex": [
       "\\begin{tabular}{r|lllll}\n",
       " Species & Sepal.Length & Sepal.Width & Petal.Length & Petal.Width\\\\\n",
       "\\hline\n",
       "\t setosa     & 5.006      & 3.428      & 1.462      & 0.246     \\\\\n",
       "\t versicolor & 5.936      & 2.770      & 4.260      & 1.326     \\\\\n",
       "\t virginica  & 6.588      & 2.974      & 5.552      & 2.026     \\\\\n",
       "\\end{tabular}\n"
      ],
      "text/markdown": [
       "\n",
       "Species | Sepal.Length | Sepal.Width | Petal.Length | Petal.Width | \n",
       "|---|---|---|\n",
       "| setosa     | 5.006      | 3.428      | 1.462      | 0.246      | \n",
       "| versicolor | 5.936      | 2.770      | 4.260      | 1.326      | \n",
       "| virginica  | 6.588      | 2.974      | 5.552      | 2.026      | \n",
       "\n",
       "\n"
      ],
      "text/plain": [
       "  Species    Sepal.Length Sepal.Width Petal.Length Petal.Width\n",
       "1 setosa     5.006        3.428       1.462        0.246      \n",
       "2 versicolor 5.936        2.770       4.260        1.326      \n",
       "3 virginica  6.588        2.974       5.552        2.026      "
      ]
     },
     "metadata": {},
     "output_type": "display_data"
    },
    {
     "data": {
      "text/html": [
       "<table>\n",
       "<thead><tr><th scope=col>supp</th><th scope=col>dose</th><th scope=col>len</th></tr></thead>\n",
       "<tbody>\n",
       "\t<tr><td>OJ   </td><td>0.5  </td><td>13.23</td></tr>\n",
       "\t<tr><td>VC   </td><td>0.5  </td><td> 7.98</td></tr>\n",
       "\t<tr><td>OJ   </td><td>1.0  </td><td>22.70</td></tr>\n",
       "\t<tr><td>VC   </td><td>1.0  </td><td>16.77</td></tr>\n",
       "\t<tr><td>OJ   </td><td>2.0  </td><td>26.06</td></tr>\n",
       "\t<tr><td>VC   </td><td>2.0  </td><td>26.14</td></tr>\n",
       "</tbody>\n",
       "</table>\n"
      ],
      "text/latex": [
       "\\begin{tabular}{r|lll}\n",
       " supp & dose & len\\\\\n",
       "\\hline\n",
       "\t OJ    & 0.5   & 13.23\\\\\n",
       "\t VC    & 0.5   &  7.98\\\\\n",
       "\t OJ    & 1.0   & 22.70\\\\\n",
       "\t VC    & 1.0   & 16.77\\\\\n",
       "\t OJ    & 2.0   & 26.06\\\\\n",
       "\t VC    & 2.0   & 26.14\\\\\n",
       "\\end{tabular}\n"
      ],
      "text/markdown": [
       "\n",
       "supp | dose | len | \n",
       "|---|---|---|---|---|---|\n",
       "| OJ    | 0.5   | 13.23 | \n",
       "| VC    | 0.5   |  7.98 | \n",
       "| OJ    | 1.0   | 22.70 | \n",
       "| VC    | 1.0   | 16.77 | \n",
       "| OJ    | 2.0   | 26.06 | \n",
       "| VC    | 2.0   | 26.14 | \n",
       "\n",
       "\n"
      ],
      "text/plain": [
       "  supp dose len  \n",
       "1 OJ   0.5  13.23\n",
       "2 VC   0.5   7.98\n",
       "3 OJ   1.0  22.70\n",
       "4 VC   1.0  16.77\n",
       "5 OJ   2.0  26.06\n",
       "6 VC   2.0  26.14"
      ]
     },
     "metadata": {},
     "output_type": "display_data"
    }
   ],
   "source": [
    "## Formulas, one ~ one, one ~ many, many ~ one, and many ~ many:\n",
    "aggregate(weight ~ feed, data = chickwts, mean)\n",
    "aggregate(breaks ~ wool + tension, data = warpbreaks, mean)\n",
    "aggregate(cbind(Ozone, Temp) ~ Month, data = airquality, mean)\n",
    "aggregate(cbind(ncases, ncontrols) ~ alcgp + tobgp, data = esoph, sum)\n",
    "\n",
    "## Dot notation:\n",
    "aggregate(. ~ Species, data = iris, mean)\n",
    "aggregate(len ~ ., data = ToothGrowth, mean)"
   ]
  },
  {
   "cell_type": "markdown",
   "metadata": {
    "slideshow": {
     "slide_type": "slide"
    }
   },
   "source": [
    "### Difference between how apply and sapply handles the data"
   ]
  },
  {
   "cell_type": "code",
   "execution_count": 237,
   "metadata": {
    "collapsed": true,
    "run_control": {
     "frozen": false,
     "read_only": false
    },
    "slideshow": {
     "slide_type": "subslide"
    }
   },
   "outputs": [],
   "source": [
    "df <- data.frame(ingr=c(\"2L\",6L, 7L),fctr=c(TRUE,FALSE,TRUE))"
   ]
  },
  {
   "cell_type": "code",
   "execution_count": 238,
   "metadata": {
    "run_control": {
     "frozen": false,
     "read_only": false
    },
    "slideshow": {
     "slide_type": "subslide"
    }
   },
   "outputs": [
    {
     "data": {
      "text/html": [
       "<dl class=dl-horizontal>\n",
       "\t<dt>ingr</dt>\n",
       "\t\t<dd>'character'</dd>\n",
       "\t<dt>fctr</dt>\n",
       "\t\t<dd>'character'</dd>\n",
       "</dl>\n"
      ],
      "text/latex": [
       "\\begin{description*}\n",
       "\\item[ingr] 'character'\n",
       "\\item[fctr] 'character'\n",
       "\\end{description*}\n"
      ],
      "text/markdown": [
       "ingr\n",
       ":   'character'fctr\n",
       ":   'character'\n",
       "\n"
      ],
      "text/plain": [
       "       ingr        fctr \n",
       "\"character\" \"character\" "
      ]
     },
     "metadata": {},
     "output_type": "display_data"
    },
    {
     "data": {
      "text/html": [
       "<dl class=dl-horizontal>\n",
       "\t<dt>ingr</dt>\n",
       "\t\t<dd>'factor'</dd>\n",
       "\t<dt>fctr</dt>\n",
       "\t\t<dd>'logical'</dd>\n",
       "</dl>\n"
      ],
      "text/latex": [
       "\\begin{description*}\n",
       "\\item[ingr] 'factor'\n",
       "\\item[fctr] 'logical'\n",
       "\\end{description*}\n"
      ],
      "text/markdown": [
       "ingr\n",
       ":   'factor'fctr\n",
       ":   'logical'\n",
       "\n"
      ],
      "text/plain": [
       "     ingr      fctr \n",
       " \"factor\" \"logical\" "
      ]
     },
     "metadata": {},
     "output_type": "display_data"
    }
   ],
   "source": [
    "apply(df,2,class)\n",
    "sapply(df,class)"
   ]
  },
  {
   "cell_type": "markdown",
   "metadata": {
    "slideshow": {
     "slide_type": "slide"
    }
   },
   "source": [
    "### mapply\n",
    "* Multivariate version of sapply\n",
    "* It applies FUN to the first elements of each (…) argument,  the second elements, the third elements, and so on.\n",
    "* Note that the **first argument of mapply() here is the name of a function**\n",
    "* advisable when you have several data structures (e.g. vectors, lists) and you want to apply a function over elements\n"
   ]
  },
  {
   "cell_type": "code",
   "execution_count": 239,
   "metadata": {
    "run_control": {
     "frozen": false,
     "read_only": false
    },
    "slideshow": {
     "slide_type": "subslide"
    }
   },
   "outputs": [
    {
     "name": "stdout",
     "output_type": "stream",
     "text": [
      " [1]  64  68  72  76  80  84  88  92  96 100\n"
     ]
    }
   ],
   "source": [
    "l1 <- list(a = c(1:10), b = c(11:20))\n",
    "l2 <- list(c = c(21:30), d = c(31:40))\n",
    "# sum the corresponding elements of l1 and l2\n",
    "print(mapply(sum, l1$a, l1$b, l2$c, l2$d))"
   ]
  },
  {
   "cell_type": "code",
   "execution_count": 240,
   "metadata": {
    "run_control": {
     "frozen": false,
     "read_only": false
    },
    "slideshow": {
     "slide_type": "subslide"
    }
   },
   "outputs": [
    {
     "name": "stdout",
     "output_type": "stream",
     "text": [
      "  a   b \n",
      " 55 155 \n"
     ]
    }
   ],
   "source": [
    "print(mapply(sum, l1))\n",
    "#sum(c(1:10)) "
   ]
  },
  {
   "cell_type": "code",
   "execution_count": 241,
   "metadata": {
    "run_control": {
     "frozen": false,
     "read_only": false
    },
    "slideshow": {
     "slide_type": "subslide"
    }
   },
   "outputs": [
    {
     "name": "stdout",
     "output_type": "stream",
     "text": [
      "  a   b \n",
      "310 510 \n"
     ]
    }
   ],
   "source": [
    "print(mapply(sum, l1,l2))\n",
    "#sum(c(1:10),c(21:30))"
   ]
  },
  {
   "cell_type": "code",
   "execution_count": 242,
   "metadata": {
    "run_control": {
     "frozen": false,
     "read_only": false
    },
    "slideshow": {
     "slide_type": "subslide"
    }
   },
   "outputs": [
    {
     "name": "stdout",
     "output_type": "stream",
     "text": [
      " [1] 12 14 16 18 20 22 24 26 28 30\n"
     ]
    }
   ],
   "source": [
    "print(mapply(sum, l1$a, l1$b))"
   ]
  },
  {
   "cell_type": "code",
   "execution_count": 243,
   "metadata": {
    "run_control": {
     "frozen": false,
     "read_only": false
    },
    "slideshow": {
     "slide_type": "subslide"
    }
   },
   "outputs": [
    {
     "name": "stdout",
     "output_type": "stream",
     "text": [
      " [1]  64  68  72  76  80  84  88  92  96 100\n"
     ]
    }
   ],
   "source": [
    "print(mapply(sum, l1$a, l1$b, l2$c, l2$d))"
   ]
  },
  {
   "cell_type": "code",
   "execution_count": 244,
   "metadata": {
    "run_control": {
     "frozen": false,
     "read_only": false
    },
    "slideshow": {
     "slide_type": "subslide"
    }
   },
   "outputs": [
    {
     "name": "stdout",
     "output_type": "stream",
     "text": [
      "[[1]]\n",
      "[1] 64\n",
      "\n",
      "[[2]]\n",
      "[1] 68\n",
      "\n",
      "[[3]]\n",
      "[1] 72\n",
      "\n",
      "[[4]]\n",
      "[1] 76\n",
      "\n",
      "[[5]]\n",
      "[1] 80\n",
      "\n",
      "[[6]]\n",
      "[1] 84\n",
      "\n",
      "[[7]]\n",
      "[1] 88\n",
      "\n",
      "[[8]]\n",
      "[1] 92\n",
      "\n",
      "[[9]]\n",
      "[1] 96\n",
      "\n",
      "[[10]]\n",
      "[1] 100\n",
      "\n"
     ]
    }
   ],
   "source": [
    "# Map - A wrapper to mapply with SIMPLIFY = FALSE, so it is guaranteed to return a list\n",
    "print(Map(sum, l1$a, l1$b, l2$c, l2$d))"
   ]
  },
  {
   "cell_type": "markdown",
   "metadata": {
    "slideshow": {
     "slide_type": "slide"
    }
   },
   "source": [
    "![](img/merge_from_ofoct.jpg)"
   ]
  },
  {
   "cell_type": "markdown",
   "metadata": {
    "slideshow": {
     "slide_type": "slide"
    }
   },
   "source": [
    "![](img/merge_from_ofoct1.jpg)"
   ]
  },
  {
   "cell_type": "markdown",
   "metadata": {
    "slideshow": {
     "slide_type": "slide"
    }
   },
   "source": [
    "**Further References on apply functions:**   \n",
    "https://nsaunders.wordpress.com/2010/08/20/a-brief-introduction-to-apply-in-r/  \n",
    "https://www.datacamp.com/community/tutorials/r-tutorial-apply-family  \n",
    "https://stackoverflow.com/questions/3505701/grouping-functions-tapply-by-aggregate-and-the-apply-family/7701638  "
   ]
  },
  {
   "cell_type": "markdown",
   "metadata": {
    "slideshow": {
     "slide_type": "slide"
    }
   },
   "source": [
    "### by\n",
    "* applys a function to each level of a factor or factors\n",
    "* split your data by factors and do calculations on each subset\n",
    "* similar to group by function in SQL, applied to factors, where in we may apply operations on individual results set."
   ]
  },
  {
   "cell_type": "code",
   "execution_count": 245,
   "metadata": {
    "run_control": {
     "frozen": false,
     "read_only": false
    },
    "slideshow": {
     "slide_type": "subslide"
    }
   },
   "outputs": [
    {
     "data": {
      "text/plain": [
       "iris$Species: setosa\n",
       "Sepal.Length  Sepal.Width Petal.Length  Petal.Width \n",
       "       5.006        3.428        1.462        0.246 \n",
       "------------------------------------------------------------ \n",
       "iris$Species: versicolor\n",
       "Sepal.Length  Sepal.Width Petal.Length  Petal.Width \n",
       "       5.936        2.770        4.260        1.326 \n",
       "------------------------------------------------------------ \n",
       "iris$Species: virginica\n",
       "Sepal.Length  Sepal.Width Petal.Length  Petal.Width \n",
       "       6.588        2.974        5.552        2.026 "
      ]
     },
     "metadata": {},
     "output_type": "display_data"
    }
   ],
   "source": [
    "# we apply colMeans() function to all the observations on iris dataset grouped by Species.\n",
    "by(iris[, 1:4], iris$Species, colMeans)"
   ]
  },
  {
   "cell_type": "markdown",
   "metadata": {
    "slideshow": {
     "slide_type": "slide"
    }
   },
   "source": [
    "### with\n",
    "* applys an expression to a dataset  \n",
    "**syntax:** `with(data, expression)`"
   ]
  },
  {
   "cell_type": "code",
   "execution_count": 246,
   "metadata": {
    "run_control": {
     "frozen": false,
     "read_only": false
    },
    "slideshow": {
     "slide_type": "subslide"
    }
   },
   "outputs": [
    {
     "data": {
      "text/html": [
       "<ol class=list-inline>\n",
       "\t<li>18.7</li>\n",
       "\t<li>14.3</li>\n",
       "\t<li>10.4</li>\n",
       "\t<li>10.4</li>\n",
       "\t<li>14.7</li>\n",
       "\t<li>19.2</li>\n",
       "\t<li>15.8</li>\n",
       "</ol>\n"
      ],
      "text/latex": [
       "\\begin{enumerate*}\n",
       "\\item 18.7\n",
       "\\item 14.3\n",
       "\\item 10.4\n",
       "\\item 10.4\n",
       "\\item 14.7\n",
       "\\item 19.2\n",
       "\\item 15.8\n",
       "\\end{enumerate*}\n"
      ],
      "text/markdown": [
       "1. 18.7\n",
       "2. 14.3\n",
       "3. 10.4\n",
       "4. 10.4\n",
       "5. 14.7\n",
       "6. 19.2\n",
       "7. 15.8\n",
       "\n",
       "\n"
      ],
      "text/plain": [
       "[1] 18.7 14.3 10.4 10.4 14.7 19.2 15.8"
      ]
     },
     "metadata": {},
     "output_type": "display_data"
    },
    {
     "data": {
      "text/html": [
       "<ol class=list-inline>\n",
       "\t<li>18.7</li>\n",
       "\t<li>14.3</li>\n",
       "\t<li>10.4</li>\n",
       "\t<li>10.4</li>\n",
       "\t<li>14.7</li>\n",
       "\t<li>19.2</li>\n",
       "\t<li>15.8</li>\n",
       "</ol>\n"
      ],
      "text/latex": [
       "\\begin{enumerate*}\n",
       "\\item 18.7\n",
       "\\item 14.3\n",
       "\\item 10.4\n",
       "\\item 10.4\n",
       "\\item 14.7\n",
       "\\item 19.2\n",
       "\\item 15.8\n",
       "\\end{enumerate*}\n"
      ],
      "text/markdown": [
       "1. 18.7\n",
       "2. 14.3\n",
       "3. 10.4\n",
       "4. 10.4\n",
       "5. 14.7\n",
       "6. 19.2\n",
       "7. 15.8\n",
       "\n",
       "\n"
      ],
      "text/plain": [
       "[1] 18.7 14.3 10.4 10.4 14.7 19.2 15.8"
      ]
     },
     "metadata": {},
     "output_type": "display_data"
    }
   ],
   "source": [
    "with(mtcars, mpg[cyl == 8  &  disp > 350])\n",
    "    # is the same as, but nicer than\n",
    "mtcars$mpg[mtcars$cyl == 8  &  mtcars$disp > 350]"
   ]
  },
  {
   "cell_type": "markdown",
   "metadata": {
    "slideshow": {
     "slide_type": "slide"
    }
   },
   "source": [
    "### Let’s take one variable, square it and add 100\n",
    "> \"How many ways might an R beginner screw up such a simple computation\""
   ]
  },
  {
   "cell_type": "code",
   "execution_count": 247,
   "metadata": {
    "run_control": {
     "frozen": false,
     "read_only": false
    },
    "slideshow": {
     "slide_type": "subslide"
    }
   },
   "outputs": [
    {
     "name": "stdout",
     "output_type": "stream",
     "text": [
      "  x\n",
      "1 1\n",
      "2 2\n",
      "3 3\n",
      "4 4\n",
      "5 5\n"
     ]
    }
   ],
   "source": [
    "#let's create a data frame\n",
    "mydata <- data.frame(x = 1:5)\n",
    "print(mydata)"
   ]
  },
  {
   "cell_type": "code",
   "execution_count": 248,
   "metadata": {
    "collapsed": true,
    "run_control": {
     "frozen": false,
     "read_only": false
    },
    "slideshow": {
     "slide_type": "slide"
    }
   },
   "outputs": [],
   "source": [
    "#### using dollar format: mydata$x"
   ]
  },
  {
   "cell_type": "code",
   "execution_count": 249,
   "metadata": {
    "collapsed": true,
    "run_control": {
     "frozen": false,
     "read_only": false
    },
    "slideshow": {
     "slide_type": "subslide"
    }
   },
   "outputs": [],
   "source": [
    "mydata.new <- mydata #take original data into another data frame"
   ]
  },
  {
   "cell_type": "code",
   "execution_count": 250,
   "metadata": {
    "run_control": {
     "frozen": false,
     "read_only": false
    },
    "slideshow": {
     "slide_type": "subslide"
    }
   },
   "outputs": [
    {
     "name": "stdout",
     "output_type": "stream",
     "text": [
      "  x x2  x3\n",
      "1 1  1 101\n",
      "2 2  4 104\n",
      "3 3  9 109\n",
      "4 4 16 116\n",
      "5 5 25 125\n"
     ]
    }
   ],
   "source": [
    "mydata.new$x2 <- mydata.new$x  ^ 2\n",
    "mydata.new$x3 <- mydata.new$x2 + 100\n",
    "print(mydata.new)"
   ]
  },
  {
   "cell_type": "markdown",
   "metadata": {
    "slideshow": {
     "slide_type": "slide"
    }
   },
   "source": [
    "#### Using attach function\n",
    "* Use the names like “x\" instead of “mydata$x\".\n",
    "* The attach function allows you to use short names to refer to variables in a data frame"
   ]
  },
  {
   "cell_type": "code",
   "execution_count": 251,
   "metadata": {
    "run_control": {
     "frozen": false,
     "read_only": false
    },
    "scrolled": true,
    "slideshow": {
     "slide_type": "subslide"
    }
   },
   "outputs": [
    {
     "name": "stderr",
     "output_type": "stream",
     "text": [
      "The following object is masked from mydata.new (pos = 3):\n",
      "\n",
      "    x\n",
      "\n",
      "The following object is masked from mydata.new (pos = 4):\n",
      "\n",
      "    x\n",
      "\n",
      "The following object is masked from mydata.new (pos = 5):\n",
      "\n",
      "    x\n",
      "\n",
      "The following object is masked from mydata.new (pos = 6):\n",
      "\n",
      "    x\n",
      "\n",
      "The following object is masked from mydata.new (pos = 7):\n",
      "\n",
      "    x\n",
      "\n",
      "The following object is masked from mydata.new (pos = 8):\n",
      "\n",
      "    x\n",
      "\n",
      "The following object is masked from mydata.new (pos = 9):\n",
      "\n",
      "    x\n",
      "\n",
      "The following object is masked from mydata.new (pos = 10):\n",
      "\n",
      "    x\n",
      "\n"
     ]
    },
    {
     "name": "stdout",
     "output_type": "stream",
     "text": [
      "  x\n",
      "1 1\n",
      "2 2\n",
      "3 3\n",
      "4 4\n",
      "5 5\n"
     ]
    }
   ],
   "source": [
    "# the attach function is tricky to use. Here’s the most common mistake made by beginners\n",
    "mydata.new <- mydata\n",
    "attach(mydata.new)\n",
    "x2 <- x  ^ 2 \n",
    "x3 <- x2 + 100\n",
    "print(mydata.new)"
   ]
  },
  {
   "cell_type": "markdown",
   "metadata": {
    "slideshow": {
     "slide_type": "slide"
    }
   },
   "source": [
    "**proceed further on below interesting article:**   \n",
    "http://r4stats.com/2013/01/22/comparing-tranformation-styles/"
   ]
  },
  {
   "cell_type": "code",
   "execution_count": null,
   "metadata": {
    "collapsed": true,
    "run_control": {
     "frozen": false,
     "read_only": false
    }
   },
   "outputs": [],
   "source": []
  }
 ],
 "metadata": {
  "celltoolbar": "Slideshow",
  "hide_input": false,
  "kernelspec": {
   "display_name": "R",
   "language": "R",
   "name": "ir"
  },
  "language_info": {
   "codemirror_mode": "r",
   "file_extension": ".r",
   "mimetype": "text/x-r-source",
   "name": "R",
   "pygments_lexer": "r",
   "version": "3.4.2"
  },
  "nav_menu": {},
  "toc": {
   "navigate_menu": true,
   "number_sections": true,
   "sideBar": true,
   "threshold": 6,
   "toc_cell": false,
   "toc_section_display": "block",
   "toc_window_display": false
  }
 },
 "nbformat": 4,
 "nbformat_minor": 2
}
